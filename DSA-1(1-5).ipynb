{
 "cells": [
  {
   "cell_type": "markdown",
   "id": "8655897e",
   "metadata": {},
   "source": [
    "# Q1. Write a program to find all pairs of an integer array whose sum is equal to a given number?"
   ]
  },
  {
   "cell_type": "code",
   "execution_count": 1,
   "id": "19dd27cb",
   "metadata": {},
   "outputs": [
    {
     "name": "stdout",
     "output_type": "stream",
     "text": [
      "enter the array :[1,4,2,3,5,0]\n",
      "Pairs whose sum is :  5\n",
      "1 4\n",
      "2 3\n",
      "5 0\n"
     ]
    }
   ],
   "source": [
    "\n",
    "array = eval(input(\"enter the array :\"))\n",
    "\n",
    "def find(array, len, summ):\n",
    "    print(\"Pairs whose sum is : \", summ)\n",
    "    for i in range(len):\n",
    "        for j in range(i, len):\n",
    "            if (array[i] + array[j]) == summ:\n",
    "                print(array[i], array[j])\n",
    "summ = 5\n",
    "find(array, len(array), summ)"
   ]
  },
  {
   "cell_type": "markdown",
   "id": "45045b28",
   "metadata": {},
   "source": [
    "# Q2. Write a program to reverse an array in place? In place means you cannot create a new array. You have to update the original array."
   ]
  },
  {
   "cell_type": "code",
   "execution_count": 3,
   "id": "4afa3600",
   "metadata": {},
   "outputs": [
    {
     "name": "stdout",
     "output_type": "stream",
     "text": [
      "enter the array :[1,2,3,4,5,6,7]\n",
      "before [1, 2, 3, 4, 5, 6, 7]\n",
      "after [7, 6, 5, 4, 3, 2, 1]\n"
     ]
    }
   ],
   "source": [
    "array= eval(input(\"enter the array :\"))\n",
    "\n",
    "def find(array,start, end):\n",
    "    while(start<end):\n",
    "        array[start], array[end] = array[end], array[start]\n",
    "        start+=1\n",
    "        end-=1\n",
    "\n",
    "        \n",
    "        \n",
    "print(\"before\", array)\n",
    "find(array,0,6)\n",
    "print(\"after\", array)\n",
    "\n",
    "                 "
   ]
  },
  {
   "cell_type": "markdown",
   "id": "b7c6e054",
   "metadata": {},
   "source": [
    "# Q3. Write a program to check if two strings are a rotation of each other?"
   ]
  },
  {
   "cell_type": "code",
   "execution_count": 4,
   "id": "9da83716",
   "metadata": {},
   "outputs": [
    {
     "name": "stdout",
     "output_type": "stream",
     "text": [
      "enter the value 1 :swede\n",
      "enter the value 2: deswe\n",
      "string are rotation to each other\n"
     ]
    }
   ],
   "source": [
    "s1=input(\"enter the value 1 :\")\n",
    "s2=input(\"enter the value 2: \")\n",
    "if(len(s1)==len(s2)):\n",
    "        s1=s1+s1\n",
    "        \n",
    "        if(s1.index(s2)):\n",
    "            print(\"string are rotation to each other\")\n",
    "else:\n",
    "        print(\"string are not rotation to each other\")\n",
    "        \n",
    "    "
   ]
  },
  {
   "cell_type": "markdown",
   "id": "7536ad43",
   "metadata": {},
   "source": [
    "# Q4. Write a program to print the first non-repeated character from a string?"
   ]
  },
  {
   "cell_type": "code",
   "execution_count": 5,
   "id": "e5f45014",
   "metadata": {},
   "outputs": [
    {
     "name": "stdout",
     "output_type": "stream",
     "text": [
      "enter the name :pythhhhhh\n",
      "First non-repeating character is p\n"
     ]
    }
   ],
   "source": [
    "s1=input(\"enter the name :\")\n",
    "num=0\n",
    "rep=\"\"\n",
    "for i in s1:\n",
    "    if s1.count(i)==1:\n",
    "        rep+=i\n",
    "        break\n",
    "    else:\n",
    "        num+=1\n",
    "if num==len(s1)-1:\n",
    "      print(\"All characters are repeating \")\n",
    "else:\n",
    "    print(\"First non-repeating character is\", rep)        "
   ]
  },
  {
   "cell_type": "markdown",
   "id": "bd52b95e",
   "metadata": {},
   "source": [
    "# Q5. Read about the Tower of Hanoi algorithm. Write a program to implement it\n",
    "        "
   ]
  },
  {
   "cell_type": "code",
   "execution_count": 6,
   "id": "530d445b",
   "metadata": {},
   "outputs": [
    {
     "name": "stdout",
     "output_type": "stream",
     "text": [
      "move disk 1 from source A to destination C\n",
      "move disk 2 from source A to destination B\n",
      "move disk 1 from source B to destination C\n",
      "move disk 3 from source A to destination C\n",
      "move disk 1 from source C to destination A\n",
      "move disk 2 from source C to destination B\n",
      "move disk 1 from source B to destination A\n"
     ]
    }
   ],
   "source": [
    "def Hanoi(n,RED,BLUE, CYAN):\n",
    "    if n==0:\n",
    "        return          0\n",
    "    Hanoi(n-1,RED, CYAN, BLUE)\n",
    "    print(\"move disk\",n,\"from source\",RED, \"to destination\",BLUE)\n",
    "    Hanoi(n-1, BLUE,CYAN,RED)\n",
    "\n",
    "n=2   \n",
    "Hanoi(3,\"A\",\"C\",\"B\")\n",
    "\n"
   ]
  },
  {
   "cell_type": "code",
   "execution_count": null,
   "id": "48a5fbee",
   "metadata": {},
   "outputs": [],
   "source": []
  },
  {
   "cell_type": "code",
   "execution_count": null,
   "id": "10ff0bbf",
   "metadata": {},
   "outputs": [],
   "source": []
  }
 ],
 "metadata": {
  "kernelspec": {
   "display_name": "Python 3 (ipykernel)",
   "language": "python",
   "name": "python3"
  },
  "language_info": {
   "codemirror_mode": {
    "name": "ipython",
    "version": 3
   },
   "file_extension": ".py",
   "mimetype": "text/x-python",
   "name": "python",
   "nbconvert_exporter": "python",
   "pygments_lexer": "ipython3",
   "version": "3.10.9"
  }
 },
 "nbformat": 4,
 "nbformat_minor": 5
}
