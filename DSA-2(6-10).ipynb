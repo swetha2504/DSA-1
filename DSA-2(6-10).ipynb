{
 "cells": [
  {
   "cell_type": "markdown",
   "id": "e5b03ed9",
   "metadata": {},
   "source": [
    "Q6. Read about infix, prefix, and postfix expressions. Write a program to convert postfix to prefix expression.\n"
   ]
  },
  {
   "cell_type": "markdown",
   "id": "940512a7",
   "metadata": {},
   "source": [
    "Infix :a<operator>b     \n",
    "prefix :<operator>ab\n",
    "postfix : ab<operator>"
   ]
  },
  {
   "cell_type": "code",
   "execution_count": 1,
   "id": "b726bb1b",
   "metadata": {},
   "outputs": [
    {
     "name": "stdout",
     "output_type": "stream",
     "text": [
      "None\n"
     ]
    }
   ],
   "source": [
    "def postfixToprefix(postfix):\n",
    "    s=[]\n",
    "def isOperator(c):\n",
    "    if c == \"*\" or c == \"+\" or c == \"-\" or c == \"/\" or c == \"^\" or c == \"(\" or c == \")\":\n",
    "        return True\n",
    "    else:\n",
    "        return False\n",
    "    \n",
    "    p=len(postfix)\n",
    "    for i in range(p):\n",
    "         \n",
    "        if (isOperator(postfix[i])):\n",
    "            op1 = s[-1]\n",
    "            s.pop()\n",
    "            op2 = s[-1] \n",
    "            s.pop() \n",
    "            expression = postfix[i] + op2 + op1 \n",
    "            s.append(expression) \n",
    "            \n",
    "        else:\n",
    "            \n",
    "            s.append(postfix[i]\n",
    "\n",
    "\n",
    "if __name__==\"__main__\":\n",
    "    \n",
    "    str = \"ab+cd\"\n",
    "    \n",
    "    print(postfixToprefix(str))\n",
    "            "
   ]
  },
  {
   "cell_type": "markdown",
   "id": "1760e163",
   "metadata": {},
   "source": [
    "# Q7. Write a program to convert prefix expression to infix expression.\n",
    "\n"
   ]
  },
  {
   "cell_type": "code",
   "execution_count": null,
   "id": "855ada41",
   "metadata": {},
   "outputs": [],
   "source": [
    "def prefixToInfix(prefix):\n",
    "    stack = []\n",
    "     \n",
    "    i = len(prefix) - 1\n",
    "    while i >= 0:\n",
    "        if not isOperator(prefix[i]):\n",
    "            stack.append(prefix[i])\n",
    "            i -= 1\n",
    "        else:\n",
    "            str = \"(\" + stack.pop() + prefix[i] + stack.pop() + \")\"\n",
    "            stack.append(str)\n",
    "            i -= 1\n",
    "     \n",
    "    return stack.pop()\n",
    " \n",
    "def isOperator(c):\n",
    "    if c == \"*\" or c == \"+\" or c == \"-\" or c == \"/\" or c == \"^\" or c == \"(\" or c == \")\":\n",
    "        return True\n",
    "    else:\n",
    "        return False\n",
    "if __name__==\"__main__\":\n",
    "    \n",
    "    str = \"*+AB-CD\"\n",
    "    print(prefixToInfix(str))"
   ]
  },
  {
   "cell_type": "code",
   "execution_count": null,
   "id": "582f20fa",
   "metadata": {},
   "outputs": [],
   "source": []
  },
  {
   "cell_type": "code",
   "execution_count": null,
   "id": "5230baa2",
   "metadata": {},
   "outputs": [],
   "source": []
  },
  {
   "cell_type": "code",
   "execution_count": null,
   "id": "6b264f6c",
   "metadata": {},
   "outputs": [],
   "source": []
  },
  {
   "cell_type": "code",
   "execution_count": null,
   "id": "957e14fc",
   "metadata": {},
   "outputs": [],
   "source": []
  },
  {
   "cell_type": "markdown",
   "id": "c6f08179",
   "metadata": {},
   "source": [
    "# Q8. Write a program to check if all the brackets are closed in a given code snippet."
   ]
  },
  {
   "cell_type": "code",
   "execution_count": 3,
   "id": "c9ba583d",
   "metadata": {},
   "outputs": [
    {
     "name": "stdout",
     "output_type": "stream",
     "text": [
      "Not Balanced\n"
     ]
    }
   ],
   "source": [
    "def brackets_balanced(s):\n",
    "    stack = []\n",
    "    for ch in s:\n",
    "        if ch in ('(', '{', '['):\n",
    "            stack.append(ch)\n",
    "        else:\n",
    "            if stack and ((stack[-1] == '(' and ch == ')') or\n",
    "                          (stack[-1] == '{' and ch == '}') or\n",
    "                          (stack[-1] == '[' and ch == ']')):\n",
    "                stack.pop()\n",
    "            else:\n",
    "                return False\n",
    "    return stack\n",
    " \n",
    "expr = \"{([)}[]\"\n",
    "if brackets_balanced(expr):\n",
    "    print(\"Balanced\")\n",
    "else:\n",
    "    print(\"Not Balanced\")\n",
    "  "
   ]
  },
  {
   "cell_type": "markdown",
   "id": "bb59368e",
   "metadata": {},
   "source": [
    "# Q9. Write a program to reverse a stack."
   ]
  },
  {
   "cell_type": "code",
   "execution_count": 4,
   "id": "7138ced9",
   "metadata": {},
   "outputs": [
    {
     "name": "stdout",
     "output_type": "stream",
     "text": [
      "Original Stack \n",
      "0 9 8 2 \n",
      "Reversed Stack \n",
      "2 8 9 0 \n"
     ]
    }
   ],
   "source": [
    "def insertAtBottom(stack, item):\n",
    "    if isEmpty(stack):\n",
    "        push(stack, item)\n",
    "    else:\n",
    "        temp = pop(stack)\n",
    "        insertAtBottom(stack, item)\n",
    "        push(stack, temp)\n",
    "        \n",
    "        \n",
    "def reverse(stack):\n",
    "    \n",
    "    if not isEmpty(stack):\n",
    "        temp = pop(stack)\n",
    "        reverse(stack)\n",
    "        insertAtBottom(stack, temp)\n",
    "        \n",
    "        \n",
    "def createStack():\n",
    "    stack = []\n",
    "    return stack\n",
    "\n",
    "def isEmpty(stack):\n",
    "    return len(stack) == 0\n",
    "\n",
    " \n",
    "def push(stack, item):\n",
    "    stack.append(item)\n",
    "    \n",
    "def pop(stack):\n",
    "    \n",
    "    if(isEmpty(stack)):\n",
    "        print(\"Stack Underflow \") \n",
    "    return stack.pop()\n",
    "\n",
    "\n",
    "def prints(stack):\n",
    "    for i in range(len(stack)-1, -1, -1):\n",
    "        print(stack[i], end=' ')\n",
    "    print()\n",
    "\n",
    "    \n",
    "stack = createStack()\n",
    "push(stack, str(2))\n",
    "push(stack, str(8))\n",
    "push(stack, str(9))\n",
    "push(stack, str(0))\n",
    "print(\"Original Stack \")\n",
    "prints(stack)\n",
    " \n",
    "reverse(stack)\n",
    " \n",
    "print(\"Reversed Stack \")\n",
    "prints(stack)\n",
    "    \n"
   ]
  },
  {
   "cell_type": "code",
   "execution_count": null,
   "id": "ff5d1715",
   "metadata": {},
   "outputs": [],
   "source": []
  },
  {
   "cell_type": "code",
   "execution_count": null,
   "id": "d0f2ecec",
   "metadata": {},
   "outputs": [],
   "source": []
  },
  {
   "cell_type": "code",
   "execution_count": null,
   "id": "bdb1d6f1",
   "metadata": {},
   "outputs": [],
   "source": []
  },
  {
   "cell_type": "code",
   "execution_count": null,
   "id": "18cb0db6",
   "metadata": {},
   "outputs": [],
   "source": []
  },
  {
   "cell_type": "markdown",
   "id": "d788c4cb",
   "metadata": {},
   "source": [
    "# Q10. Write a program to find the smallest number using a stack.\n"
   ]
  },
  {
   "cell_type": "code",
   "execution_count": 31,
   "id": "20ce5314",
   "metadata": {},
   "outputs": [
    {
     "ename": "ValueError",
     "evalue": "could not convert string to float: 'min'",
     "output_type": "error",
     "traceback": [
      "\u001b[1;31m---------------------------------------------------------------------------\u001b[0m",
      "\u001b[1;31mValueError\u001b[0m                                Traceback (most recent call last)",
      "Cell \u001b[1;32mIn[31], line 1\u001b[0m\n\u001b[1;32m----> 1\u001b[0m \u001b[38;5;28;01mclass\u001b[39;00m \u001b[38;5;21;01mMinStack\u001b[39;00m(\u001b[38;5;28mobject\u001b[39m):\n\u001b[0;32m      2\u001b[0m     \u001b[38;5;28mmin\u001b[39m\u001b[38;5;241m=\u001b[39m\u001b[38;5;28mfloat\u001b[39m(\u001b[38;5;124m'\u001b[39m\u001b[38;5;124mmin\u001b[39m\u001b[38;5;124m'\u001b[39m)\n\u001b[0;32m      3\u001b[0m     \u001b[38;5;28;01mdef\u001b[39;00m \u001b[38;5;21m__init__\u001b[39m(\u001b[38;5;28mself\u001b[39m):\n",
      "Cell \u001b[1;32mIn[31], line 2\u001b[0m, in \u001b[0;36mMinStack\u001b[1;34m()\u001b[0m\n\u001b[0;32m      1\u001b[0m \u001b[38;5;28;01mclass\u001b[39;00m \u001b[38;5;21;01mMinStack\u001b[39;00m(\u001b[38;5;28mobject\u001b[39m):\n\u001b[1;32m----> 2\u001b[0m     \u001b[38;5;28mmin\u001b[39m\u001b[38;5;241m=\u001b[39m\u001b[38;5;28;43mfloat\u001b[39;49m\u001b[43m(\u001b[49m\u001b[38;5;124;43m'\u001b[39;49m\u001b[38;5;124;43mmin\u001b[39;49m\u001b[38;5;124;43m'\u001b[39;49m\u001b[43m)\u001b[49m\n\u001b[0;32m      3\u001b[0m     \u001b[38;5;28;01mdef\u001b[39;00m \u001b[38;5;21m__init__\u001b[39m(\u001b[38;5;28mself\u001b[39m):\n\u001b[0;32m      4\u001b[0m         \u001b[38;5;28mself\u001b[39m\u001b[38;5;241m.\u001b[39mmin\u001b[38;5;241m=\u001b[39m\u001b[38;5;28mfloat\u001b[39m(\u001b[38;5;124m'\u001b[39m\u001b[38;5;124mmin\u001b[39m\u001b[38;5;124m'\u001b[39m)\n",
      "\u001b[1;31mValueError\u001b[0m: could not convert string to float: 'min'"
     ]
    }
   ],
   "source": [
    "class MinStack(object):\n",
    "    min=float('inf')\n",
    "    def __init__(self):\n",
    "        self.min=float('inf')\n",
    "        self.stack = []\n",
    "    def push(self, x):\n",
    "        if x<=self.min:\n",
    "            self.stack.append(self.min)\n",
    "            self.min = x\n",
    "        self.stack.append(x)\n",
    "    def pop(self):\n",
    "        mi = self.stack[-1]\n",
    "        self.stack.pop()\n",
    "        if self.min == mi:\n",
    "            self.min = self.stack[-1]\n",
    "            self.stack.pop()\n",
    "    def getMin(self):\n",
    "        return self.min\n",
    "m = MinStack()\n",
    "m.push(2)\n",
    "m.push(10)\n",
    "m.push(3)\n",
    "print(m.getMin())\n",
    "m.pop()"
   ]
  },
  {
   "cell_type": "code",
   "execution_count": 27,
   "id": "9a7826fb",
   "metadata": {},
   "outputs": [],
   "source": [
    "def quicksort(x):\n",
    "    if len(x)<=1:\n",
    "        return(x)\n",
    "    else:\n",
    "        p = x[0]\n",
    "        l = [i for i in x[1:] if i <= p]\n",
    "        r = [i for i in x[1:] if i > p]\n",
    "    return quicksort(l)+[p]+quicksort(r)\n"
   ]
  },
  {
   "cell_type": "code",
   "execution_count": 2,
   "id": "cfbfc382",
   "metadata": {},
   "outputs": [
    {
     "name": "stdout",
     "output_type": "stream",
     "text": [
      "[18, 22, 36, 55, 97]\n",
      "smallest number : 18\n"
     ]
    }
   ],
   "source": [
    "x=[97,18,22,36,55]\n",
    "y=quicksort(x)\n",
    "print(y)\n",
    "print(\"smallest number :\",y[0])"
   ]
  },
  {
   "cell_type": "code",
   "execution_count": null,
   "id": "0ebf06d6",
   "metadata": {},
   "outputs": [],
   "source": []
  }
 ],
 "metadata": {
  "kernelspec": {
   "display_name": "Python 3 (ipykernel)",
   "language": "python",
   "name": "python3"
  },
  "language_info": {
   "codemirror_mode": {
    "name": "ipython",
    "version": 3
   },
   "file_extension": ".py",
   "mimetype": "text/x-python",
   "name": "python",
   "nbconvert_exporter": "python",
   "pygments_lexer": "ipython3",
   "version": "3.10.9"
  }
 },
 "nbformat": 4,
 "nbformat_minor": 5
}
