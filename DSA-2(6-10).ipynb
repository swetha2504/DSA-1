{
 "cells": [
  {
   "cell_type": "markdown",
   "id": "e5b03ed9",
   "metadata": {},
   "source": [
    "Q6. Read about infix, prefix, and postfix expressions. Write a program to convert postfix to prefix expression.\n"
   ]
  },
  {
   "cell_type": "markdown",
   "id": "940512a7",
   "metadata": {},
   "source": [
    "Infix :a<operator>b     \n",
    "prefix :<operator>ab\n",
    "postfix : ab<operator>"
   ]
  },
  {
   "cell_type": "code",
   "execution_count": 1,
   "id": "b726bb1b",
   "metadata": {},
   "outputs": [
    {
     "name": "stdout",
     "output_type": "stream",
     "text": [
      "None\n"
     ]
    }
   ],
   "source": [
    "def postfixToprefix(postfix):\n",
    "    s=[]\n",
    "def isOperator(c):\n",
    "    if c == \"*\" or c == \"+\" or c == \"-\" or c == \"/\" or c == \"^\" or c == \"(\" or c == \")\":\n",
    "        return True\n",
    "    else:\n",
    "        return False\n",
    "    \n",
    "    p=len(postfix)\n",
    "    for i in range(p):\n",
    "         \n",
    "        if (isOperator(postfix[i])):\n",
    "            op1 = s[-1]\n",
    "            s.pop()\n",
    "            op2 = s[-1] \n",
    "            s.pop() \n",
    "            expression = postfix[i] + op2 + op1 \n",
    "            s.append(expression) \n",
    "            \n",
    "        else:\n",
    "            \n",
    "            s.append(postfix[i]\n",
    "\n",
    "\n",
    "if __name__==\"__main__\":\n",
    "    \n",
    "    str = \"ab+cd\"\n",
    "    \n",
    "    print(postfixToprefix(str))\n",
    "            "
   ]
  },
  {
   "cell_type": "markdown",
   "id": "1760e163",
   "metadata": {},
   "source": [
    "# Q7. Write a program to convert prefix expression to infix expression.\n",
    "\n"
   ]
  },
  {
   "cell_type": "code",
   "execution_count": null,
   "id": "855ada41",
   "metadata": {},
   "outputs": [],
   "source": [
    "def prefixToInfix(prefix):\n",
    "    stack = []\n",
    "     \n",
    "    i = len(prefix) - 1\n",
    "    while i >= 0:\n",
    "        if not isOperator(prefix[i]):\n",
    "            stack.append(prefix[i])\n",
    "            i -= 1\n",
    "        else:\n",
    "            str = \"(\" + stack.pop() + prefix[i] + stack.pop() + \")\"\n",
    "            stack.append(str)\n",
    "            i -= 1\n",
    "     \n",
    "    return stack.pop()\n",
    " \n",
    "def isOperator(c):\n",
    "    if c == \"*\" or c == \"+\" or c == \"-\" or c == \"/\" or c == \"^\" or c == \"(\" or c == \")\":\n",
    "        return True\n",
    "    else:\n",
    "        return False\n",
    "if __name__==\"__main__\":\n",
    "    \n",
    "    str = \"*+AB-CD\"\n",
    "    print(prefixToInfix(str))"
   ]
  },
  {
   "cell_type": "code",
   "execution_count": null,
   "id": "582f20fa",
   "metadata": {},
   "outputs": [],
   "source": []
  },
  {
   "cell_type": "code",
   "execution_count": null,
   "id": "5230baa2",
   "metadata": {},
   "outputs": [],
   "source": []
  },
  {
   "cell_type": "code",
   "execution_count": null,
   "id": "6b264f6c",
   "metadata": {},
   "outputs": [],
   "source": []
  },
  {
   "cell_type": "code",
   "execution_count": null,
   "id": "957e14fc",
   "metadata": {},
   "outputs": [],
   "source": []
  },
  {
   "cell_type": "markdown",
   "id": "c6f08179",
   "metadata": {},
   "source": [
    "# Q8. Write a program to check if all the brackets are closed in a given code snippet."
   ]
  },
  {
   "cell_type": "code",
   "execution_count": null,
   "id": "c9ba583d",
   "metadata": {},
   "outputs": [],
   "source": [
    "def brackets_balanced(s):\n",
    "    stack = []\n",
    "    for ch in s:\n",
    "        if ch in ('(', '{', '['):\n",
    "            stack.append(ch)\n",
    "        else:\n",
    "            if stack and ((stack[-1] == '(' and ch == ')') or\n",
    "                          (stack[-1] == '{' and ch == '}') or\n",
    "                          (stack[-1] == '[' and ch == ']')):\n",
    "                stack.pop()\n",
    "            else:\n",
    "                return False\n",
    "    return stack\n",
    " \n",
    "expr = \"{([)}[]\"\n",
    "if brackets_balanced(expr):\n",
    "    print(\"Balanced\")\n",
    "else:\n",
    "    print(\"Not Balanced\")\n",
    "  "
   ]
  },
  {
   "cell_type": "markdown",
   "id": "bb59368e",
   "metadata": {},
   "source": [
    "# Q9. Write a program to reverse a stack."
   ]
  },
  {
   "cell_type": "code",
   "execution_count": null,
   "id": "7138ced9",
   "metadata": {},
   "outputs": [],
   "source": [
    "a=[4,5,9,8]\n",
    "def push(x,item):\n",
    "    x.append(item)\n",
    "    return x"
   ]
  },
  {
   "cell_type": "code",
   "execution_count": null,
   "id": "ff5d1715",
   "metadata": {},
   "outputs": [],
   "source": [
    "push(a,5)"
   ]
  },
  {
   "cell_type": "code",
   "execution_count": null,
   "id": "d0f2ecec",
   "metadata": {},
   "outputs": [],
   "source": [
    "push(a,9)\n"
   ]
  },
  {
   "cell_type": "code",
   "execution_count": null,
   "id": "bdb1d6f1",
   "metadata": {},
   "outputs": [],
   "source": [
    "rev=a[::-1]"
   ]
  },
  {
   "cell_type": "code",
   "execution_count": null,
   "id": "18cb0db6",
   "metadata": {},
   "outputs": [],
   "source": [
    "print(rev)"
   ]
  },
  {
   "cell_type": "markdown",
   "id": "d788c4cb",
   "metadata": {},
   "source": [
    "# Q10. Write a program to find the smallest number using a stack.\n"
   ]
  },
  {
   "cell_type": "code",
   "execution_count": null,
   "id": "9a7826fb",
   "metadata": {},
   "outputs": [],
   "source": [
    "def quicksort(x):\n",
    "    if len(x)<=1:\n",
    "        return(x)\n",
    "    else:\n",
    "        p = x[0]\n",
    "        l = [i for i in x[1:] if i <= p]\n",
    "        r = [i for i in x[1:] if i > p]\n",
    "    return quicksort(l)+[p]+quicksort(r)\n"
   ]
  },
  {
   "cell_type": "code",
   "execution_count": null,
   "id": "cfbfc382",
   "metadata": {},
   "outputs": [],
   "source": [
    "x=[97,18,22,36,55]\n",
    "y=quicksort(x)\n",
    "print(y)\n",
    "print(\"smallest number :\",y[0])"
   ]
  },
  {
   "cell_type": "code",
   "execution_count": null,
   "id": "0ebf06d6",
   "metadata": {},
   "outputs": [],
   "source": []
  }
 ],
 "metadata": {
  "kernelspec": {
   "display_name": "Python 3 (ipykernel)",
   "language": "python",
   "name": "python3"
  },
  "language_info": {
   "codemirror_mode": {
    "name": "ipython",
    "version": 3
   },
   "file_extension": ".py",
   "mimetype": "text/x-python",
   "name": "python",
   "nbconvert_exporter": "python",
   "pygments_lexer": "ipython3",
   "version": "3.10.9"
  }
 },
 "nbformat": 4,
 "nbformat_minor": 5
}
